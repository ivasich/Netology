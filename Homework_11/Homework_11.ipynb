{
 "cells": [
  {
   "cell_type": "markdown",
   "metadata": {},
   "source": [
    "Задание 1\n",
    "Скачайте с сайта https://grouplens.org/datasets/movielens/ датасет любого размера. Определите какому фильму было выставлено больше всего оценок 5.0."
   ]
  },
  {
   "cell_type": "code",
   "execution_count": 3,
   "metadata": {},
   "outputs": [],
   "source": [
    "import pandas as pd"
   ]
  },
  {
   "cell_type": "code",
   "execution_count": 4,
   "metadata": {},
   "outputs": [
    {
     "data": {
      "text/html": [
       "<div>\n",
       "<style scoped>\n",
       "    .dataframe tbody tr th:only-of-type {\n",
       "        vertical-align: middle;\n",
       "    }\n",
       "\n",
       "    .dataframe tbody tr th {\n",
       "        vertical-align: top;\n",
       "    }\n",
       "\n",
       "    .dataframe thead th {\n",
       "        text-align: right;\n",
       "    }\n",
       "</style>\n",
       "<table border=\"1\" class=\"dataframe\">\n",
       "  <thead>\n",
       "    <tr style=\"text-align: right;\">\n",
       "      <th></th>\n",
       "      <th>userId</th>\n",
       "      <th>movieId</th>\n",
       "      <th>rating</th>\n",
       "      <th>timestamp</th>\n",
       "    </tr>\n",
       "  </thead>\n",
       "  <tbody>\n",
       "    <tr>\n",
       "      <th>0</th>\n",
       "      <td>1</td>\n",
       "      <td>296</td>\n",
       "      <td>5.0</td>\n",
       "      <td>1147880044</td>\n",
       "    </tr>\n",
       "    <tr>\n",
       "      <th>1</th>\n",
       "      <td>1</td>\n",
       "      <td>306</td>\n",
       "      <td>3.5</td>\n",
       "      <td>1147868817</td>\n",
       "    </tr>\n",
       "    <tr>\n",
       "      <th>2</th>\n",
       "      <td>1</td>\n",
       "      <td>307</td>\n",
       "      <td>5.0</td>\n",
       "      <td>1147868828</td>\n",
       "    </tr>\n",
       "    <tr>\n",
       "      <th>3</th>\n",
       "      <td>1</td>\n",
       "      <td>665</td>\n",
       "      <td>5.0</td>\n",
       "      <td>1147878820</td>\n",
       "    </tr>\n",
       "    <tr>\n",
       "      <th>4</th>\n",
       "      <td>1</td>\n",
       "      <td>899</td>\n",
       "      <td>3.5</td>\n",
       "      <td>1147868510</td>\n",
       "    </tr>\n",
       "  </tbody>\n",
       "</table>\n",
       "</div>"
      ],
      "text/plain": [
       "   userId  movieId  rating   timestamp\n",
       "0       1      296     5.0  1147880044\n",
       "1       1      306     3.5  1147868817\n",
       "2       1      307     5.0  1147868828\n",
       "3       1      665     5.0  1147878820\n",
       "4       1      899     3.5  1147868510"
      ]
     },
     "execution_count": 4,
     "metadata": {},
     "output_type": "execute_result"
    }
   ],
   "source": [
    "data = pd.read_csv('ratings.csv')\n",
    "data.head()"
   ]
  },
  {
   "cell_type": "code",
   "execution_count": 5,
   "metadata": {},
   "outputs": [
    {
     "data": {
      "text/html": [
       "<div>\n",
       "<style scoped>\n",
       "    .dataframe tbody tr th:only-of-type {\n",
       "        vertical-align: middle;\n",
       "    }\n",
       "\n",
       "    .dataframe tbody tr th {\n",
       "        vertical-align: top;\n",
       "    }\n",
       "\n",
       "    .dataframe thead th {\n",
       "        text-align: right;\n",
       "    }\n",
       "</style>\n",
       "<table border=\"1\" class=\"dataframe\">\n",
       "  <thead>\n",
       "    <tr style=\"text-align: right;\">\n",
       "      <th></th>\n",
       "      <th></th>\n",
       "      <th>userId</th>\n",
       "      <th>timestamp</th>\n",
       "    </tr>\n",
       "    <tr>\n",
       "      <th>movieId</th>\n",
       "      <th>rating</th>\n",
       "      <th></th>\n",
       "      <th></th>\n",
       "    </tr>\n",
       "  </thead>\n",
       "  <tbody>\n",
       "    <tr>\n",
       "      <th>318</th>\n",
       "      <th>5.0</th>\n",
       "      <td>39553</td>\n",
       "      <td>39553</td>\n",
       "    </tr>\n",
       "  </tbody>\n",
       "</table>\n",
       "</div>"
      ],
      "text/plain": [
       "                userId  timestamp\n",
       "movieId rating                   \n",
       "318     5.0      39553      39553"
      ]
     },
     "execution_count": 5,
     "metadata": {},
     "output_type": "execute_result"
    }
   ],
   "source": [
    "data[ data.rating == 5.0 ].groupby(['movieId','rating']).count().sort_values('userId', ascending=False).head(1)"
   ]
  },
  {
   "cell_type": "markdown",
   "metadata": {},
   "source": [
    "Задание 2\n",
    "По данным файла power.csv посчитайте суммарное потребление стран Прибалтики (Латвия, Литва и Эстония) категорий 4, 12 и 21 за период с 2005 по 2010 года. Не учитывайте в расчетах отрицательные значения quantity."
   ]
  },
  {
   "cell_type": "code",
   "execution_count": 6,
   "metadata": {},
   "outputs": [
    {
     "data": {
      "text/html": [
       "<div>\n",
       "<style scoped>\n",
       "    .dataframe tbody tr th:only-of-type {\n",
       "        vertical-align: middle;\n",
       "    }\n",
       "\n",
       "    .dataframe tbody tr th {\n",
       "        vertical-align: top;\n",
       "    }\n",
       "\n",
       "    .dataframe thead th {\n",
       "        text-align: right;\n",
       "    }\n",
       "</style>\n",
       "<table border=\"1\" class=\"dataframe\">\n",
       "  <thead>\n",
       "    <tr style=\"text-align: right;\">\n",
       "      <th></th>\n",
       "      <th>country</th>\n",
       "      <th>year</th>\n",
       "      <th>quantity</th>\n",
       "      <th>category</th>\n",
       "    </tr>\n",
       "  </thead>\n",
       "  <tbody>\n",
       "    <tr>\n",
       "      <th>0</th>\n",
       "      <td>Austria</td>\n",
       "      <td>1996</td>\n",
       "      <td>5.0</td>\n",
       "      <td>1</td>\n",
       "    </tr>\n",
       "    <tr>\n",
       "      <th>1</th>\n",
       "      <td>Austria</td>\n",
       "      <td>1995</td>\n",
       "      <td>17.0</td>\n",
       "      <td>1</td>\n",
       "    </tr>\n",
       "    <tr>\n",
       "      <th>2</th>\n",
       "      <td>Belgium</td>\n",
       "      <td>2014</td>\n",
       "      <td>0.0</td>\n",
       "      <td>1</td>\n",
       "    </tr>\n",
       "    <tr>\n",
       "      <th>3</th>\n",
       "      <td>Belgium</td>\n",
       "      <td>2013</td>\n",
       "      <td>0.0</td>\n",
       "      <td>1</td>\n",
       "    </tr>\n",
       "    <tr>\n",
       "      <th>4</th>\n",
       "      <td>Belgium</td>\n",
       "      <td>2012</td>\n",
       "      <td>35.0</td>\n",
       "      <td>1</td>\n",
       "    </tr>\n",
       "  </tbody>\n",
       "</table>\n",
       "</div>"
      ],
      "text/plain": [
       "   country  year  quantity  category\n",
       "0  Austria  1996       5.0         1\n",
       "1  Austria  1995      17.0         1\n",
       "2  Belgium  2014       0.0         1\n",
       "3  Belgium  2013       0.0         1\n",
       "4  Belgium  2012      35.0         1"
      ]
     },
     "execution_count": 6,
     "metadata": {},
     "output_type": "execute_result"
    }
   ],
   "source": [
    "data = pd.read_csv('power.csv')\n",
    "data.head()"
   ]
  },
  {
   "cell_type": "code",
   "execution_count": 7,
   "metadata": {},
   "outputs": [
    {
     "data": {
      "text/plain": [
       "240580.0"
      ]
     },
     "execution_count": 7,
     "metadata": {},
     "output_type": "execute_result"
    }
   ],
   "source": [
    "data[(data.country.isin([\"Estonia\",\"Lithuania\",\"Latvia\"]))\n",
    "    & (data.category.isin([4,12,21]))\n",
    "    &(data.year >= 2005)  & (data.year <= 2010)\n",
    "    &(data.quantity > 0)]['quantity'].sum()"
   ]
  },
  {
   "cell_type": "markdown",
   "metadata": {},
   "source": [
    "Задание 3\n",
    "Выберите страницу любого сайта с табличными данными. Импортируйте таблицы в pandas dataframe.\n",
    "Примеры страниц (необязательно брать именно эти)"
   ]
  },
  {
   "cell_type": "code",
   "execution_count": 12,
   "metadata": {},
   "outputs": [
    {
     "data": {
      "text/plain": [
       "[     0       1      2        3       4      5        6       7      8   \\\n",
       " 0  ММВБ   2 952  -0,7%   Nasdaq  10 793  -1,1%  Биткойн  10 948   0,1%   \n",
       " 1   РТС   1 229  -1,2%   S&P500   3 319  -1,1%    Нефть     431   0,2%   \n",
       " 2   Dow  27 657  -0,9%  FTSE100   6 007  -0,7%   Золото   1 953  -0,5%   \n",
       " \n",
       "         9       10    11  \n",
       " 0  USD/RUB  755740  0,1%  \n",
       " 1  EUR/RUB  896250  0,0%  \n",
       " 2  EUR/USD   11859  0,1%  ,\n",
       "     Unnamed: 0              Рубль  Предложение  Спрос  Предыдущее закрытие  \\\n",
       " 0          NaN            GBP/RUB       978405      -               976480   \n",
       " 1          NaN            EUR/RUB       897558      -               896510   \n",
       " 2          NaN            USD/RUB       763555      -               755145   \n",
       " 3          NaN            JPY/RUB        07294      -                07224   \n",
       " 4          NaN            CNY/RUB       112229      -               111561   \n",
       " 5          NaN            CHF/RUB       834011      -               829249   \n",
       " 6          NaN               Евро  Предложение  Спрос  Предыдущее закрытие   \n",
       " 7          NaN            EUR/USD        11761      -                11846   \n",
       " 8          NaN            EUR/GBP        09174      -                09160   \n",
       " 9          NaN            EUR/JPY      1229990      -              1238250   \n",
       " 10         NaN            EUR/CHF        10759      -                10784   \n",
       " 11         NaN         Доллар США  Предложение  Спрос  Предыдущее закрытие   \n",
       " 12         NaN            USD/EUR        08499      -                08442   \n",
       " 13         NaN            USD/GBP        07796      -                07733   \n",
       " 14         NaN            USD/JPY      1045825      -              1045400   \n",
       " 15         NaN            USD/CHF        09148      -                09108   \n",
       " 16         NaN      Японская иена  Предложение  Спрос  Предыдущее закрытие   \n",
       " 17         NaN    JPY/EUR (100:1)        08100      -                08100   \n",
       " 18         NaN            JPY/GBP        00075      -                00074   \n",
       " 19         NaN            JPY/USD        00096      -                00096   \n",
       " 20         NaN    JPY/CHF (100:1)        08700      -                08700   \n",
       " 21         NaN    Фунт стерлингов  Предложение  Спрос  Предыдущее закрытие   \n",
       " 22         NaN            GBP/USD        12822      -                12932   \n",
       " 23         NaN            GBP/JPY      1341756      -              1351807   \n",
       " 24         NaN            GBP/EUR        10900      -                10919   \n",
       " 25         NaN            GBP/CHF        11728      -                11775   \n",
       " 26         NaN  Швейцарский франк  Предложение  Спрос  Предыдущее закрытие   \n",
       " 27         NaN            GBP/CHF        11728      -                11775   \n",
       " 28         NaN            EUR/CHF        10759      -                10784   \n",
       " 29         NaN    JPY/CHF (100:1)        08700      -                08700   \n",
       " 30         NaN            USD/CHF        09148      -                09108   \n",
       " 31         NaN  Украинская гривна  Предложение  Спрос  Предыдущее закрытие   \n",
       " 32         NaN            EUR/UAH       332214      -               333846   \n",
       " 33         NaN            USD/UAH       282363      -               281821   \n",
       " 34         NaN            CHF/UAH       308661      -               309477   \n",
       " 35         NaN            GBP/UAH       362187      -               364424   \n",
       " \n",
       "           %  Абсолютное значение     Время  \n",
       " 0    0,20 %                01925  16:47:00  \n",
       " 1    0,12 %                01048  16:46:00  \n",
       " 2    1,11 %                08410  16:46:00  \n",
       " 3    0,97 %                00070  16:47:00  \n",
       " 4    0,60 %                00669  16:46:00  \n",
       " 5    0,57 %                04762  16:46:00  \n",
       " 6         %  Абсолютное значение     Время  \n",
       " 7   -0,72 %               -00085  16:46:00  \n",
       " 8    0,15 %                00014  16:46:00  \n",
       " 9   -0,67 %               -08260  16:46:00  \n",
       " 10  -0,24 %               -00026  16:46:00  \n",
       " 11        %  Абсолютное значение     Время  \n",
       " 12   0,68 %                00058  16:46:00  \n",
       " 13   0,81 %                00063  16:47:00  \n",
       " 14   0,04 %                00425  16:46:00  \n",
       " 15   0,44 %                00040  16:46:00  \n",
       " 16        %  Абсолютное значение     Время  \n",
       " 17   0,69 %                00001  16:46:00  \n",
       " 18   0,75 %                00001  16:47:00  \n",
       " 19  -0,05 %                00000  16:46:00  \n",
       " 20   0,45 %                00000  16:46:00  \n",
       " 21        %  Абсолютное значение     Время  \n",
       " 22  -0,85 %               -00111  16:46:00  \n",
       " 23  -0,74 %               -10051  16:47:00  \n",
       " 24  -0,17 %               -00019  16:46:00  \n",
       " 25  -0,39 %               -00046  16:46:00  \n",
       " 26        %  Абсолютное значение     Время  \n",
       " 27  -0,39 %               -00046  16:46:00  \n",
       " 28  -0,24 %               -00026  16:46:00  \n",
       " 29   0,45 %                00000  16:46:00  \n",
       " 30   0,44 %                00040  16:46:00  \n",
       " 31        %  Абсолютное значение     Время  \n",
       " 32  -0,49 %               -01632  16:46:00  \n",
       " 33   0,19 %                00542  16:45:00  \n",
       " 34  -0,26 %               -00816  16:46:00  \n",
       " 35  -0,61 %               -02237  16:47:00  ,\n",
       "                                                    0  \\\n",
       " 0                                      Имя и фамилия   \n",
       " 1                                            Телефон   \n",
       " 2                                                NaN   \n",
       " 3  Я даю согласие на обработку своих персональных...   \n",
       " \n",
       "                                                    1  \\\n",
       " 0                                              Город   \n",
       " 1                                              Email   \n",
       " 2                                                NaN   \n",
       " 3  Я даю согласие на обработку своих персональных...   \n",
       " \n",
       "                                                    2  \\\n",
       " 0                                                NaN   \n",
       " 1                                                NaN   \n",
       " 2  Спасибо! Ваша заявка отправлена Финансовый кон...   \n",
       " 3                                                NaN   \n",
       " \n",
       "                                                    3  \\\n",
       " 0                                                NaN   \n",
       " 1                                                NaN   \n",
       " 2  Спасибо! Ваша заявка отправлена Финансовый кон...   \n",
       " 3                                                NaN   \n",
       " \n",
       "                                                    4  \\\n",
       " 0                                                NaN   \n",
       " 1                                                NaN   \n",
       " 2  ошибка: не удалось создать заявку в журнале за...   \n",
       " 3                                                NaN   \n",
       " \n",
       "                                                    5                       6  \\\n",
       " 0                                                NaN                     NaN   \n",
       " 1                                                NaN                     NaN   \n",
       " 2  ошибка: не удалось создать заявку в журнале за...  ошибка: не POST-запрос   \n",
       " 3                                                NaN                     NaN   \n",
       " \n",
       "                         7                                                  8  \\\n",
       " 0                     NaN                                                NaN   \n",
       " 1                     NaN                                                NaN   \n",
       " 2  ошибка: не POST-запрос  Просим Вас согласиться на передачу и обработку...   \n",
       " 3                     NaN                                                NaN   \n",
       " \n",
       "                                                    9  \n",
       " 0                                                NaN  \n",
       " 1                                                NaN  \n",
       " 2  Просим Вас согласиться на передачу и обработку...  \n",
       " 3                                                NaN  ]"
      ]
     },
     "execution_count": 12,
     "metadata": {},
     "output_type": "execute_result"
    }
   ],
   "source": [
    "dataf = pd.read_html('https://www.finanz.ru/valyuty/v-realnom-vremeni',encoding='utf-8')\n",
    "dataf"
   ]
  },
  {
   "cell_type": "code",
   "execution_count": null,
   "metadata": {},
   "outputs": [],
   "source": []
  }
 ],
 "metadata": {
  "kernelspec": {
   "display_name": "Python 3",
   "language": "python",
   "name": "python3"
  },
  "language_info": {
   "codemirror_mode": {
    "name": "ipython",
    "version": 3
   },
   "file_extension": ".py",
   "mimetype": "text/x-python",
   "name": "python",
   "nbconvert_exporter": "python",
   "pygments_lexer": "ipython3",
   "version": "3.7.3"
  }
 },
 "nbformat": 4,
 "nbformat_minor": 2
}
