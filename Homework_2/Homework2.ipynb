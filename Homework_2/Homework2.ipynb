{
 "cells": [
  {
   "cell_type": "markdown",
   "metadata": {},
   "source": [
    "## Задание 1. \n",
    "\n",
    "Даны 2 строки: long_phrase и short_phrase. Напишите код, который проверяет действительно ли длинная фраза long_phrase длиннее короткой short_phrase. И выводит True или False в зависимости от результата сравнения."
   ]
  },
  {
   "cell_type": "code",
   "execution_count": null,
   "metadata": {},
   "outputs": [],
   "source": [
    "long_phrase = 'Насколько проще было бы писать программы, если бы не заказчики'\n",
    "short_phrase = '640Кб должно хватить для любых задач. Билл Гейтс (по легенде)'\n",
    "\n",
    "if len(long_phrase) > len(short_phrase):\n",
    "    print('True')\n",
    "else:\n",
    "    print('False')"
   ]
  },
  {
   "cell_type": "markdown",
   "metadata": {},
   "source": [
    "## Задание 2. \n",
    "\n",
    "Дано значение объема файла в байтах (в мегабайте 2^20 байт). Напишите перевод этого значения в мегабайты в формате: \"Объем файла равен 213.68Mb\"."
   ]
  },
  {
   "cell_type": "code",
   "execution_count": 37,
   "metadata": {
    "scrolled": true
   },
   "outputs": [
    {
     "name": "stdout",
     "output_type": "stream",
     "text": [
      "Введите размер файла в байтах: 500\n",
      "Объем файла равен: 0.0005 Mb\n"
     ]
    }
   ],
   "source": [
    "a = float(input('Введите размер файла в байтах: '))\n",
    "b = float(a / 1000000)\n",
    "\n",
    "print('Объем файла равен:',b,'Mb')\n",
    "    "
   ]
  },
  {
   "cell_type": "markdown",
   "metadata": {},
   "source": [
    "## Задание 3. \n",
    "\n",
    "Разработать приложение для определения знака зодиака по дате рождения."
   ]
  },
  {
   "cell_type": "code",
   "execution_count": 4,
   "metadata": {},
   "outputs": [
    {
     "name": "stdout",
     "output_type": "stream",
     "text": [
      "Введите день: 27\n",
      "Введит месяц(в формате 1,2 и т.д.): 4\n",
      "Ваш знак зодиака : Телец\n"
     ]
    }
   ],
   "source": [
    "day = int(input(\"Введите день: \"))\n",
    "month = int(input(\"Введит месяц(в формате 1,2 и т.д.): \"))\n",
    "if month == 12:\n",
    "    astro_sign = 'Стрелец' if (day < 22) else 'Козерог'\n",
    "elif month == 1:\n",
    "    astro_sign = 'Козерог' if (day < 20) else 'Водолей'\n",
    "elif month == 2:\n",
    "    astro_sign = 'Водолей' if (day < 19) else 'Рыбы'\n",
    "elif month == 3:\n",
    "    astro_sign = 'Рыбы' if (day < 21) else 'Овен'\n",
    "elif month == 4:\n",
    "    astro_sign = 'Овен' if (day < 20) else 'Телец'\n",
    "elif month == 5:\n",
    "    astro_sign = 'Телец' if (day < 21) else 'Близнецы'\n",
    "elif month == 6:\n",
    "    astro_sign = 'Близнецы' if (day < 21) else 'Рак'\n",
    "elif month == 7:\n",
    "    astro_sign = 'Рак' if (day < 23) else 'Лев'\n",
    "elif month == 8:\n",
    "    astro_sign = 'Лев' if (day < 23) else 'Дева'\n",
    "elif month == 9:\n",
    "    astro_sign = 'Дева' if (day < 23) else 'Весы'\n",
    "elif month == 10:\n",
    "    astro_sign = 'Весы' if (day < 23) else 'Скорпион'\n",
    "elif month == 11:\n",
    "    astro_sign = 'Скорпион' if (day < 22) else 'Стрелец'\n",
    "print(\"Ваш знак зодиака :\",astro_sign)\n",
    "          "
   ]
  },
  {
   "cell_type": "markdown",
   "metadata": {},
   "source": [
    "## Задание 4. \n",
    "\n",
    "Нужно разработать приложение для финансового планирования. Приложение учитывает сколько уходит на ипотеку, \"на жизнь\" и сколько нужно отложить на пенсию. Пользователь вводит:"
   ]
  },
  {
   "cell_type": "code",
   "execution_count": 5,
   "metadata": {},
   "outputs": [
    {
     "name": "stdout",
     "output_type": "stream",
     "text": [
      "Введите зарплату: 100000\n",
      "Сколько процентов уходит на ипотеку: 30\n",
      "Сколько процентов уходит на жизнь: 50\n",
      "Введите частоту выплат премии: 2\n",
      "На ипотеку было потрачено: 360000 Рублей Было накоплено: 340000 Рублей\n"
     ]
    }
   ],
   "source": [
    "salary = int(input(\"Введите зарплату: \"))\n",
    "mortgage = int(input(\"Сколько процентов уходит на ипотеку: \"))\n",
    "life = int(input(\"Сколько процентов уходит на жизнь: \"))\n",
    "bonus_frequency = int(input(\"Введите частоту выплат премии: \"))\n",
    "salary_yearly = salary*12\n",
    "bonus_savings = (salary*bonus_frequency)/2\n",
    "mortgage_yearly = int(salary_yearly*(mortgage/100))\n",
    "savings_yearly = int(salary_yearly-salary_yearly*((mortgage+life)/100)+bonus_savings)\n",
    "print(\"На ипотеку было потрачено:\", mortgage_yearly,\"Рублей\",\"Было накоплено:\", savings_yearly,\"Рублей\")\n"
   ]
  }
 ],
 "metadata": {
  "kernelspec": {
   "display_name": "Python 3",
   "language": "python",
   "name": "python3"
  },
  "language_info": {
   "codemirror_mode": {
    "name": "ipython",
    "version": 3
   },
   "file_extension": ".py",
   "mimetype": "text/x-python",
   "name": "python",
   "nbconvert_exporter": "python",
   "pygments_lexer": "ipython3",
   "version": "3.7.3"
  }
 },
 "nbformat": 4,
 "nbformat_minor": 2
}
