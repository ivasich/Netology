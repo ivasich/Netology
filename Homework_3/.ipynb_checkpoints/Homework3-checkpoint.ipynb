{
 "cells": [
  {
   "cell_type": "code",
   "execution_count": 5,
   "metadata": {},
   "outputs": [
    {
     "name": "stdout",
     "output_type": "stream",
     "text": [
      "Введите слово: терк\n",
      "е р\n"
     ]
    }
   ],
   "source": [
    "word = str(input(\"Введите слово: \"))\n",
    "middle_index_odd = int(len(word)/2)\n",
    "middle_index_even = int(len(word)/2-1)\n",
    "second_middle_even = int(middle_index_even + 1)\n",
    "if len(word) % 2 == 0:\n",
    "    print(word[middle_index_even], word[second_middle_even])\n",
    "else:\n",
    "    print(word[middle_index_odd])\n",
    "       \n",
    "    \n",
    "    \n"
   ]
  },
  {
   "cell_type": "code",
   "execution_count": null,
   "metadata": {},
   "outputs": [],
   "source": [
    "boys = ['Peter', 'Alex', 'John', 'Arthur', 'Richard']\n",
    "girls = ['Kate', 'Liza', 'Kira', 'Emma', 'Trisha']\n",
    "if len(boys) != len(girls):\n",
    "    print('Кому-то не повезет')\n",
    "else:\n",
    "    print('Идеальное совпадение:')\n",
    "    boys_sort = sorted(boys)\n",
    "    girls_sort = sorted(girls)\n",
    "    zipped_list = zip(boys_sort,girls_sort)\n",
    "for i,j in zipped_list:\n",
    "    match = i + ' ' + j\n",
    "    print(match)"
   ]
  },
  {
   "cell_type": "code",
   "execution_count": null,
   "metadata": {},
   "outputs": [],
   "source": [
    "countries_temperature = [\n",
    " ['Thailand', [75.2, 77, 78.8, 73.4, 68, 75.2, 77]],\n",
    " ['Germany', [57.2, 55.4, 59, 59, 53.6, 55.4, 57.2]],\n",
    " ['Russia', [35.6, 37.4, 39.2, 41, 42.8, 39.2, 35.6]],\n",
    " ['Poland', [50, 50, 53.6, 57.2, 55.4, 55.4, 51.8]],\n",
    "]\n",
    "\n",
    "for country in countries_temperature:\n",
    "    temperature = f\"{country[0]} Средняя температура в C = {round(((sum(country[1])/len(country[1])-32)*5/9))}\"\n",
    "    print(temperature)\n"
   ]
  },
  {
   "cell_type": "code",
   "execution_count": null,
   "metadata": {},
   "outputs": [],
   "source": [
    "stream = [\n",
    "    '2018-01-01,user1,3',\n",
    "    '2018-01-07,user1,4',\n",
    "    '2018-03-29,user1,1',\n",
    "    '2018-04-04,user1,13',\n",
    "    '2018-01-05,user2,7',\n",
    "    '2018-06-14,user3,4',\n",
    "    '2018-07-02,user3,10',\n",
    "    '2018-03-21,user4,19',\n",
    "    '2018-03-22,user4,4',\n",
    "    '2018-04-22,user4,8',\n",
    "    '2018-05-03,user4,9',\n",
    "    '2018-05-11,user4,11',\n",
    "]\n",
    "user = [user.split(',') for user in stream]\n",
    "users = [x[1] for x in user]\n",
    "unique_users = set(users)\n",
    "visits = [int(x[2]) for x in user]\n",
    "avg_view = f\"Среднее число просмотров на пользователя:{int(sum(visits)/len(unique_users))}\"\n",
    "print(avg_view)"
   ]
  },
  {
   "cell_type": "code",
   "execution_count": null,
   "metadata": {},
   "outputs": [],
   "source": [
    "stats = [\n",
    "    ['2018-01-01', 'google', 25],\n",
    "    ['2018-01-01', 'yandex', 65],\n",
    "    ['2018-01-01', 'market', 89],\n",
    "    ['2018-01-02', 'google', 574],\n",
    "    ['2018-01-02', 'yandex', 249],\n",
    "    ['2018-01-02', 'market', 994],\n",
    "    ['2018-01-03', 'google', 1843],\n",
    "    ['2018-01-03', 'yandex', 1327],\n",
    "    ['2018-01-03', 'market', 1764],\n",
    "]\n",
    "\n",
    "\n",
    "\n",
    "date = input(\"Введите дату в формате ГГГГ-ММ-ДД:\")\n",
    "source = input(\"Введитe источник(google, yandex):\")\n",
    "\n",
    "result = f\"Количество переходов: {[x[2] for x in stats if date == x[0] and source == x[1]]}\"\n",
    "\n",
    "print(result)"
   ]
  },
  {
   "cell_type": "code",
   "execution_count": 4,
   "metadata": {},
   "outputs": [
    {
     "name": "stdout",
     "output_type": "stream",
     "text": [
      "Матрица:\n",
      "[13, 25, 23, 34]\n",
      "[45, 32, 44, 47]\n",
      "[12, 33, 23, 95]\n",
      "[13, 53, 34, 35]\n",
      "Сумма диагональной мартицы равна:103\n"
     ]
    }
   ],
   "source": [
    "data = [\n",
    "    [13, 25, 23, 34],\n",
    "    [45, 32, 44, 47],\n",
    "    [12, 33, 23, 95],\n",
    "    [13, 53, 34, 35]\n",
    "]\n",
    "\n",
    "print('Матрица:')\n",
    "\n",
    "for matrix in data:\n",
    "    print(matrix)\n",
    "\n",
    "diag_sum = 0\n",
    "\n",
    "\n",
    "for x in range(len(data)):\n",
    "    for y in range(len(data[x])):\n",
    "        if x == y:\n",
    "            diag_sum += data[x][y]            \n",
    "print(f\"Сумма диагональной мартицы равна:{diag_sum}\")\n"
   ]
  },
  {
   "cell_type": "code",
   "execution_count": null,
   "metadata": {},
   "outputs": [],
   "source": []
  }
 ],
 "metadata": {
  "kernelspec": {
   "display_name": "Python 3",
   "language": "python",
   "name": "python3"
  },
  "language_info": {
   "codemirror_mode": {
    "name": "ipython",
    "version": 3
   },
   "file_extension": ".py",
   "mimetype": "text/x-python",
   "name": "python",
   "nbconvert_exporter": "python",
   "pygments_lexer": "ipython3",
   "version": "3.7.3"
  }
 },
 "nbformat": 4,
 "nbformat_minor": 2
}
