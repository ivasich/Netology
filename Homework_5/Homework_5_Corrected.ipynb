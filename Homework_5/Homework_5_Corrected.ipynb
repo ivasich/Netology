{
 "cells": [
  {
   "cell_type": "markdown",
   "metadata": {},
   "source": [
    "Необходимо реализовать пользовательские команды (внимание! это не название функций, которые должны быть выразительными, а команды, которые вводит пользователь, чтобы получить необходимый результат):\n",
    "\n",
    "p – people – команда, которая спросит номер документа и выведет имя человека, которому он принадлежит;\n",
    "s – shelf – команда, которая спросит номер документа и выведет номер полки, на которой он находится\n",
    "Правильно обработайте ситуации, когда пользователь будет вводить несуществующий документ.\n",
    "l – list – команда, которая выведет список всех документов в формате\n",
    "passport \"2207 876234\" \"Василий Гупкин\"\n",
    "as – add shelf – команда, которая спросит номер новой полки и добавит ее в перечень. Предусмотрите случай, когда пользователь добавляет полку, которая уже существует.\n",
    "d – delete – команда, которая спросит номер документа и удалит его из каталога и из перечня полок. Предусмотрите сценарий, когда пользователь вводит несуществующий документ;\n",
    "m – move – команда, которая спросит номер документа и целевую полку и переместит его с текущей полки на целевую. Корректно обработайте кейсы, когда пользователь пытается переместить несуществующий документ или переместить документ на несуществующую полку;\n",
    "a – add – команда, которая добавит новый документ в каталог и в перечень полок, спросив его номер, тип, имя владельца и номер полки, на котором он будет храниться. Корректно обработайте ситуацию, когда пользователь будет пытаться добавить документ на несуществующую полку."
   ]
  },
  {
   "cell_type": "code",
   "execution_count": null,
   "metadata": {},
   "outputs": [],
   "source": [
    "documents = [\n",
    "    {'type': 'passport', 'number': '2207 876234', 'name': 'Василий Гупкин'},\n",
    "    {'type': 'invoice', 'number': '11-2', 'name': 'Геннадий Покемонов'},\n",
    "    {'type': 'insurance', 'number': '10006', 'name': 'Аристарх Павлов'}\n",
    "]\n"
   ]
  },
  {
   "cell_type": "code",
   "execution_count": null,
   "metadata": {},
   "outputs": [],
   "source": [
    "directories = {\n",
    "    '1': ['2207 876234', '11-2'],\n",
    "    '2': ['10006'],\n",
    "    '3': []\n",
    "}"
   ]
  },
  {
   "cell_type": "code",
   "execution_count": null,
   "metadata": {},
   "outputs": [],
   "source": [
    "def people(doc):\n",
    "    for el in documents:\n",
    "        if doc == el['number']:\n",
    "            result = el['name']\n",
    "            return print(result)\n",
    "    print('Документа не существует')\n",
    "    return\n",
    "\n",
    "#people('11-2')"
   ]
  },
  {
   "cell_type": "code",
   "execution_count": null,
   "metadata": {},
   "outputs": [],
   "source": [
    "def shelf(doc_num):\n",
    "    for k,v in directories.items():\n",
    "        if doc_num in v:\n",
    "            return print(k)\n",
    "#shelf('10006')"
   ]
  },
  {
   "cell_type": "code",
   "execution_count": null,
   "metadata": {},
   "outputs": [],
   "source": [
    "def data_list():\n",
    "    for el in documents:\n",
    "        print (f'{el[\"type\"]}, \"{el[\"number\"]}\", \"{el[\"name\"]}\"')\n",
    "#data_list()"
   ]
  },
  {
   "cell_type": "code",
   "execution_count": null,
   "metadata": {},
   "outputs": [],
   "source": [
    "def add_shelf(shelf_num):\n",
    "    if shelf_num not in directories.keys():\n",
    "        directories[shelf_num] = []\n",
    "        return print(directories)\n",
    "    print('Такая полка существует')\n",
    "            \n",
    "#add_shelf(6)\n",
    "#add_shelf(1)"
   ]
  },
  {
   "cell_type": "code",
   "execution_count": null,
   "metadata": {},
   "outputs": [],
   "source": [
    "def delete_doc(doc_num):\n",
    "    for el in documents:\n",
    "        if doc_num == el['number']:\n",
    "            del el['number'], el['type'], el['name']\n",
    "    for shelf in directories.values():\n",
    "        if doc_num in shelf:\n",
    "            shelf.remove(doc_num)\n",
    "    return\n",
    "        \n",
    "delete_doc('11-2')\n",
    "print(directories)\n",
    "print(documents)"
   ]
  },
  {
   "cell_type": "code",
   "execution_count": null,
   "metadata": {},
   "outputs": [],
   "source": [
    "def move (document_number, shelf_number):\n",
    "   \n",
    "    docs_list = []\n",
    "    for shelf in directories.values():\n",
    "        for doc_number in shelf:\n",
    "            docs_list.append(doc_number)\n",
    "     \n",
    "    if shelf_number not in directories.keys():\n",
    "        print('Нет такой полки')\n",
    "    elif document_number not in docs_list:\n",
    "        print('Нет такого документа')\n",
    "        return\n",
    "    else:\n",
    "        for shelf in directories.values():\n",
    "            for values in shelf:\n",
    "                if values == document_number:\n",
    "                    shelf.remove(document_number)\n",
    "        for i, shelf in enumerate(directories.values()):\n",
    "            if i == int(shelf_number) - 1:\n",
    "                shelf.append(document_number)\n",
    "        return\n",
    "# move('11-2', '3')\n",
    "\n",
    "# print(directories)"
   ]
  },
  {
   "cell_type": "code",
   "execution_count": null,
   "metadata": {},
   "outputs": [],
   "source": [
    "def add (document_number, type, name, shelf_number):\n",
    "    \n",
    "    if shelf_number in directories.keys():\n",
    "        a = directories[shelf_number]\n",
    "        a.append(document_number)\n",
    "        d1 = dict(type = type, number = document_number, name = name)\n",
    "        documents.append(d1)\n",
    "    else:\n",
    "        print(\"Несуществующая полка\")\n",
    "        return\n",
    "\n",
    "add ('7467949', 'bank_card', 'vasiliy ivanov', '2')\n",
    "\n",
    "print(documents)\n",
    "print(directories)\n"
   ]
  },
  {
   "cell_type": "code",
   "execution_count": null,
   "metadata": {},
   "outputs": [],
   "source": [
    "def main ():\n",
    "    while True:\n",
    "        user_input = input('Введите команду')\n",
    "        if user_input == 'p':\n",
    "            people(input('Введите номер документа'))\n",
    "        elif user_input == 's':\n",
    "            print(\"Полка №\", shelf (input('Введите номер документа')))\n",
    "        elif user_input == 'l':\n",
    "            data_list()\n",
    "        elif user_input == 'as':\n",
    "            add_shelf (input('Введите номер новой полки'))\n",
    "            print(directories)\n",
    "        elif user_input == 'd':\n",
    "            delete (input('Введите номер документа'))\n",
    "            print(documents)\n",
    "        elif user_input == 'm':\n",
    "            move (input('Введите номер документа'), input('Введите номер полки для перемещения'))\n",
    "            print(directories)           \n",
    "        elif user_input == 'a':\n",
    "            add (input('Введите номер документа'), input('Введите тип документа'), input('Введите имя владельца'), input('Введите номер полки'))              \n",
    "            print(documents)\n",
    "            print(directories)\n",
    "        elif user_input == 'q':\n",
    "            print('Всего доброго')\n",
    "            break\n",
    "\n",
    "main()"
   ]
  },
  {
   "cell_type": "code",
   "execution_count": null,
   "metadata": {},
   "outputs": [],
   "source": []
  }
 ],
 "metadata": {
  "kernelspec": {
   "display_name": "Python 3",
   "language": "python",
   "name": "python3"
  },
  "language_info": {
   "codemirror_mode": {
    "name": "ipython",
    "version": 3
   },
   "file_extension": ".py",
   "mimetype": "text/x-python",
   "name": "python",
   "nbconvert_exporter": "python",
   "pygments_lexer": "ipython3",
   "version": "3.7.3"
  }
 },
 "nbformat": 4,
 "nbformat_minor": 2
}
