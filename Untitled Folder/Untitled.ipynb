{
 "cells": [
  {
   "cell_type": "code",
   "execution_count": null,
   "metadata": {},
   "outputs": [],
   "source": [
    "documents = [\n",
    "    {'type': 'passport', 'number': '2207 876234', 'name': 'Василий Гупкин'},\n",
    "    {'type': 'invoice', 'number': '11-2', 'name': 'Геннадий Покемонов'},\n",
    "    {'type': 'insurance', 'number': '10006', 'name': 'Аристарх Павлов'}\n",
    "]"
   ]
  },
  {
   "cell_type": "code",
   "execution_count": null,
   "metadata": {},
   "outputs": [],
   "source": [
    "documents = [\n",
    "    {'type': 'passport', 'number': '2207 876234', 'name': 'Василий Гупкин'},\n",
    "    {'type': 'invoice', 'number': '11-2', 'name': 'Геннадий Покемонов'},\n",
    "    {'type': 'insurance', 'number': '10006', 'name': 'Аристарх Павлов'}\n",
    "]\n",
    "\n",
    "def p(document):\n",
    "    for x in documents:\n",
    "        if x['number'] == document:\n",
    "            return x['name']\n",
    "    assert False,\"Отсутствует в списке\"\n",
    "\n",
    "document = input(\"Введите номер документа: \")\n",
    "print(p(document))"
   ]
  },
  {
   "cell_type": "code",
   "execution_count": null,
   "metadata": {},
   "outputs": [],
   "source": [
    "#s-shelf\n",
    "\n",
    "documents = [\n",
    "    {'type': 'passport', 'number': '2207 876234', 'name': 'Василий Гупкин'},\n",
    "    {'type': 'invoice', 'number': '11-2', 'name': 'Геннадий Покемонов'},\n",
    "    {'type': 'insurance', 'number': '10006', 'name': 'Аристарх Павлов'}\n",
    "]\n",
    "\n",
    "\n",
    "directories = {\n",
    "    '1': ['2207 876234', '11-2'],\n",
    "    '2': ['10006'],\n",
    "    '3': []\n",
    "}\n",
    "\n",
    "def s(pass_num):\n",
    "    for x,y in directories.items():\n",
    "        if pass_num in y:\n",
    "            return x\n",
    "        assert False,\"Отсутствует в списке\"\n",
    "pass_num = input(\"Введите номер документа: \")\n",
    "print(f\"Номер полки вашего документа: {s(pass_num)}.\")\n",
    "\n",
    "\n"
   ]
  },
  {
   "cell_type": "code",
   "execution_count": null,
   "metadata": {},
   "outputs": [],
   "source": [
    "documents = [\n",
    "    {'type': 'passport', 'number': '2207 876234', 'name': 'Василий Гупкин'},\n",
    "    {'type': 'invoice', 'number': '11-2', 'name': 'Геннадий Покемонов'},\n",
    "    {'type': 'insurance', 'number': '10006', 'name': 'Аристарх Павлов'}\n",
    "]\n",
    "\n",
    "\n",
    "directories = {\n",
    "    '1': ['2207 876234', '11-2'],\n",
    "    '2': ['10006'],\n",
    "    '3': []\n",
    "}\n",
    "\n",
    "\n",
    "def l():\n",
    "    for x in documents:\n",
    "        type = x['type']\n",
    "        number = x['number']\n",
    "        name = x['name']\n",
    "        print(f\"Общая информация:{type} , {number} , {name}.\")\n",
    "\n",
    "l()"
   ]
  },
  {
   "cell_type": "code",
   "execution_count": null,
   "metadata": {},
   "outputs": [],
   "source": [
    "documents = [\n",
    "    {'type': 'passport', 'number': '2207 876234', 'name': 'Василий Гупкин'},\n",
    "    {'type': 'invoice', 'number': '11-2', 'name': 'Геннадий Покемонов'},\n",
    "    {'type': 'insurance', 'number': '10006', 'name': 'Аристарх Павлов'}\n",
    "]\n",
    "\n",
    "\n",
    "directories = {\n",
    "    '1': ['2207 876234', '11-2'],\n",
    "    '2': ['10006'],\n",
    "    '3': []\n",
    "}\n",
    "\n",
    "\n",
    "def add_shelf(shelf_num):\n",
    "    if shelf_num not in directories:\n",
    "          directories['number'] = []\n",
    "        \n",
    "      \n",
    "shelf_num = input('Введите номер:')\n",
    "print(add_shelf(shelf_num))"
   ]
  },
  {
   "cell_type": "code",
   "execution_count": 2,
   "metadata": {},
   "outputs": [
    {
     "name": "stdout",
     "output_type": "stream",
     "text": [
      "None\n",
      "[{'type': 'passport', 'number': '2207 876234', 'name': 'Василий Гупкин'}, {'type': 'invoice', 'number': '11-2', 'name': 'Геннадий Покемонов'}, {'type': 'insurance', 'number': '10006', 'name': 'Аристарх Павлов'}]\n"
     ]
    }
   ],
   "source": [
    "#d – delete – команда, которая спросит номер документа и удалит его из каталога и из перечня полок. \n",
    "#Предусмотрите сценарий, когда пользователь вводит несуществующий документ;\n",
    "documents = [\n",
    "    {'type': 'passport', 'number': '2207 876234', 'name': 'Василий Гупкин'},\n",
    "    {'type': 'invoice', 'number': '11-2', 'name': 'Геннадий Покемонов'},\n",
    "    {'type': 'insurance', 'number': '10006', 'name': 'Аристарх Павлов'}\n",
    "]\n",
    "\n",
    "\n",
    "directories = {\n",
    "    '1': ['2207 876234', '11-2'],\n",
    "    '2': ['10006'],\n",
    "    '3': []\n",
    "}\n",
    "\n",
    "def d(doc_num):\n",
    "    for d in documents:\n",
    "        if d['number'] == doc_num:\n",
    "            documents.pop(d)\n",
    "            \n",
    "print(d(10006))\n",
    "print(documents)\n",
    "         \n"
   ]
  },
  {
   "cell_type": "code",
   "execution_count": 15,
   "metadata": {},
   "outputs": [
    {
     "name": "stdout",
     "output_type": "stream",
     "text": [
      "Введите номер документа:11-2\n",
      "[{'type': 'passport', 'number': '2207 876234', 'name': 'Василий Гупкин'}, {'type': 'insurance', 'number': '10006', 'name': 'Аристарх Павлов'}]\n"
     ]
    }
   ],
   "source": [
    "#d – delete – команда, которая спросит номер документа и удалит его из каталога и из перечня полок. \n",
    "#Предусмотрите сценарий, когда пользователь вводит несуществующий документ;\n",
    "\n",
    "documents = [\n",
    "    {'type': 'passport', 'number': '2207 876234', 'name': 'Василий Гупкин'},\n",
    "    {'type': 'invoice', 'number': '11-2', 'name': 'Геннадий Покемонов'},\n",
    "    {'type': 'insurance', 'number': '10006', 'name': 'Аристарх Павлов'}\n",
    "]\n",
    "\n",
    "\n",
    "directories = {\n",
    "    '1': ['2207 876234', '11-2'],\n",
    "    '2': ['10006'],\n",
    "    '3': []\n",
    "}\n",
    "\n",
    "def get_people(num_doc):\n",
    "    num_doc = input('Введите номер документа:')\n",
    "    del_check = False\n",
    "    for el in documents:\n",
    "        if el['number'] == num_doc:\n",
    "            #num_doc = el['number']\n",
    "            documents.remove(el)\n",
    "            del_check = True\n",
    "    if del_check == False:\n",
    "        print(\"Документа не существует\")\n",
    "#вопрос последовательности\n",
    "    for key, value in directories.items():\n",
    "        if num_doc in value:\n",
    "            value.remove(num_doc)\n",
    "\n",
    "\n",
    "\n",
    "get_people(documents)\n",
    "\n",
    "print(documents)"
   ]
  },
  {
   "cell_type": "code",
   "execution_count": 27,
   "metadata": {},
   "outputs": [
    {
     "ename": "IndentationError",
     "evalue": "expected an indented block (<ipython-input-27-57846e4776a6>, line 28)",
     "output_type": "error",
     "traceback": [
      "\u001b[1;36m  File \u001b[1;32m\"<ipython-input-27-57846e4776a6>\"\u001b[1;36m, line \u001b[1;32m28\u001b[0m\n\u001b[1;33m    doc_existence = True\u001b[0m\n\u001b[1;37m                ^\u001b[0m\n\u001b[1;31mIndentationError\u001b[0m\u001b[1;31m:\u001b[0m expected an indented block\n"
     ]
    }
   ],
   "source": [
    "#m – move – команда, которая спросит номер документа и целевую полку и переместит его с текущей полки \n",
    "#на целевую. \n",
    "#Корректно обработайте кейсы, когда пользователь пытается переместить несуществующий документ \n",
    "#или переместить документ на несуществующую полку;\n",
    "\n",
    "documents = [\n",
    "    {'type': 'passport', 'number': '2207 876234', 'name': 'Василий Гупкин'},\n",
    "    {'type': 'invoice', 'number': '11-2', 'name': 'Геннадий Покемонов'},\n",
    "    {'type': 'insurance', 'number': '10006', 'name': 'Аристарх Павлов'}\n",
    "]\n",
    "\n",
    "\n",
    "directories = {\n",
    "    '1': ['2207 876234', '11-2'],\n",
    "    '2': ['10006'],\n",
    "    '3': []\n",
    "}\n",
    "\n",
    "def m(num_doc, shelf_num):\n",
    "        doc_existence = False\n",
    "    \n",
    "    \n",
    "        if shelf_num not in directories:\n",
    "            return ('Полки не существует')\n",
    "    \n",
    "            for key, value in directories.items(): \n",
    "                if num_doc in value: \n",
    "                    doc_existence = True\n",
    "                directories[shelf_num] += [num_doc]\n",
    "        \n",
    "        if doc_existence:\n",
    "            return \"Документ успешно перемещен\"\n",
    "        else :\n",
    "            return \"Документ не существует\"\n",
    "\n",
    "        \n",
    "num_doc = input('Введите номер:')\n",
    "shelf_num = input('Введите полку:')\n",
    "\n",
    "print(m(num_doc, shelf_id))\n",
    "print(directories)"
   ]
  },
  {
   "cell_type": "code",
   "execution_count": null,
   "metadata": {},
   "outputs": [],
   "source": [
    "directories = {\n",
    "    '1': ['2207 876234', '11-2'],\n",
    "    '2': ['10006'],\n",
    "    '3': []\n",
    "}\n",
    "\n",
    "def s(doc_num):\n",
    "    for k in directories:\n",
    "        if doc_num in directories[k]:\n",
    "            return k\n",
    "    return ('Нет такого документа')\n",
    "\n",
    "doc_num = input('Введите номер документа:')\n",
    "print(s(doc_num))"
   ]
  },
  {
   "cell_type": "code",
   "execution_count": null,
   "metadata": {},
   "outputs": [],
   "source": []
  }
 ],
 "metadata": {
  "kernelspec": {
   "display_name": "Python 3",
   "language": "python",
   "name": "python3"
  },
  "language_info": {
   "codemirror_mode": {
    "name": "ipython",
    "version": 3
   },
   "file_extension": ".py",
   "mimetype": "text/x-python",
   "name": "python",
   "nbconvert_exporter": "python",
   "pygments_lexer": "ipython3",
   "version": "3.7.3"
  }
 },
 "nbformat": 4,
 "nbformat_minor": 2
}
